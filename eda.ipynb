{
 "cells": [
  {
   "cell_type": "markdown",
   "metadata": {},
   "source": [
    "# Análise Dos Dados - IBOVESPA"
   ]
  },
  {
   "cell_type": "markdown",
   "metadata": {},
   "source": [
    "## Leitura e Pré-processamento dos dados"
   ]
  },
  {
   "cell_type": "code",
   "execution_count": 1,
   "metadata": {},
   "outputs": [],
   "source": [
    "import pandas as pd"
   ]
  },
  {
   "cell_type": "code",
   "execution_count": 4,
   "metadata": {},
   "outputs": [],
   "source": [
    "file = r'C:\\Users\\Usuario\\Downloads\\FIAP-tech-challenge-2\\raw-data\\Dados Históricos - Ibovespa.csv'"
   ]
  },
  {
   "cell_type": "code",
   "execution_count": 7,
   "metadata": {},
   "outputs": [],
   "source": [
    "df = pd.read_csv(file, sep=',')"
   ]
  },
  {
   "cell_type": "code",
   "execution_count": 11,
   "metadata": {},
   "outputs": [
    {
     "data": {
      "text/html": [
       "<div>\n",
       "<style scoped>\n",
       "    .dataframe tbody tr th:only-of-type {\n",
       "        vertical-align: middle;\n",
       "    }\n",
       "\n",
       "    .dataframe tbody tr th {\n",
       "        vertical-align: top;\n",
       "    }\n",
       "\n",
       "    .dataframe thead th {\n",
       "        text-align: right;\n",
       "    }\n",
       "</style>\n",
       "<table border=\"1\" class=\"dataframe\">\n",
       "  <thead>\n",
       "    <tr style=\"text-align: right;\">\n",
       "      <th></th>\n",
       "      <th>Data</th>\n",
       "      <th>Último</th>\n",
       "      <th>Abertura</th>\n",
       "      <th>Máxima</th>\n",
       "      <th>Mínima</th>\n",
       "      <th>Vol.</th>\n",
       "      <th>Var%</th>\n",
       "    </tr>\n",
       "  </thead>\n",
       "  <tbody>\n",
       "    <tr>\n",
       "      <th>0</th>\n",
       "      <td>27.02.2025</td>\n",
       "      <td>124.799</td>\n",
       "      <td>124.768</td>\n",
       "      <td>125.497</td>\n",
       "      <td>124.352</td>\n",
       "      <td>12,55B</td>\n",
       "      <td>0,02%</td>\n",
       "    </tr>\n",
       "    <tr>\n",
       "      <th>1</th>\n",
       "      <td>26.02.2025</td>\n",
       "      <td>124.769</td>\n",
       "      <td>125.980</td>\n",
       "      <td>126.563</td>\n",
       "      <td>124.732</td>\n",
       "      <td>11,36B</td>\n",
       "      <td>-0,96%</td>\n",
       "    </tr>\n",
       "    <tr>\n",
       "      <th>2</th>\n",
       "      <td>25.02.2025</td>\n",
       "      <td>125.980</td>\n",
       "      <td>125.401</td>\n",
       "      <td>126.718</td>\n",
       "      <td>125.382</td>\n",
       "      <td>11,08B</td>\n",
       "      <td>0,46%</td>\n",
       "    </tr>\n",
       "    <tr>\n",
       "      <th>3</th>\n",
       "      <td>24.02.2025</td>\n",
       "      <td>125.401</td>\n",
       "      <td>127.129</td>\n",
       "      <td>127.275</td>\n",
       "      <td>125.162</td>\n",
       "      <td>10,15B</td>\n",
       "      <td>-1,36%</td>\n",
       "    </tr>\n",
       "    <tr>\n",
       "      <th>4</th>\n",
       "      <td>21.02.2025</td>\n",
       "      <td>127.128</td>\n",
       "      <td>127.601</td>\n",
       "      <td>127.654</td>\n",
       "      <td>126.483</td>\n",
       "      <td>11,09B</td>\n",
       "      <td>-0,37%</td>\n",
       "    </tr>\n",
       "  </tbody>\n",
       "</table>\n",
       "</div>"
      ],
      "text/plain": [
       "         Data   Último  Abertura   Máxima   Mínima    Vol.    Var%\n",
       "0  27.02.2025  124.799   124.768  125.497  124.352  12,55B   0,02%\n",
       "1  26.02.2025  124.769   125.980  126.563  124.732  11,36B  -0,96%\n",
       "2  25.02.2025  125.980   125.401  126.718  125.382  11,08B   0,46%\n",
       "3  24.02.2025  125.401   127.129  127.275  125.162  10,15B  -1,36%\n",
       "4  21.02.2025  127.128   127.601  127.654  126.483  11,09B  -0,37%"
      ]
     },
     "execution_count": 11,
     "metadata": {},
     "output_type": "execute_result"
    }
   ],
   "source": [
    "df.head()"
   ]
  },
  {
   "cell_type": "code",
   "execution_count": 10,
   "metadata": {},
   "outputs": [
    {
     "data": {
      "text/plain": [
       "Data         object\n",
       "Último      float64\n",
       "Abertura    float64\n",
       "Máxima      float64\n",
       "Mínima      float64\n",
       "Vol.         object\n",
       "Var%         object\n",
       "dtype: object"
      ]
     },
     "execution_count": 10,
     "metadata": {},
     "output_type": "execute_result"
    }
   ],
   "source": [
    "df.dtypes"
   ]
  },
  {
   "cell_type": "code",
   "execution_count": 9,
   "metadata": {},
   "outputs": [
    {
     "data": {
      "text/html": [
       "<div>\n",
       "<style scoped>\n",
       "    .dataframe tbody tr th:only-of-type {\n",
       "        vertical-align: middle;\n",
       "    }\n",
       "\n",
       "    .dataframe tbody tr th {\n",
       "        vertical-align: top;\n",
       "    }\n",
       "\n",
       "    .dataframe thead th {\n",
       "        text-align: right;\n",
       "    }\n",
       "</style>\n",
       "<table border=\"1\" class=\"dataframe\">\n",
       "  <thead>\n",
       "    <tr style=\"text-align: right;\">\n",
       "      <th></th>\n",
       "      <th>Último</th>\n",
       "      <th>Abertura</th>\n",
       "      <th>Máxima</th>\n",
       "      <th>Mínima</th>\n",
       "    </tr>\n",
       "  </thead>\n",
       "  <tbody>\n",
       "    <tr>\n",
       "      <th>count</th>\n",
       "      <td>4745.000000</td>\n",
       "      <td>4745.000000</td>\n",
       "      <td>4745.000000</td>\n",
       "      <td>4745.000000</td>\n",
       "    </tr>\n",
       "    <tr>\n",
       "      <th>mean</th>\n",
       "      <td>74.965063</td>\n",
       "      <td>74.946324</td>\n",
       "      <td>75.661524</td>\n",
       "      <td>74.237798</td>\n",
       "    </tr>\n",
       "    <tr>\n",
       "      <th>std</th>\n",
       "      <td>28.189923</td>\n",
       "      <td>28.187076</td>\n",
       "      <td>28.325553</td>\n",
       "      <td>28.053524</td>\n",
       "    </tr>\n",
       "    <tr>\n",
       "      <th>min</th>\n",
       "      <td>29.435000</td>\n",
       "      <td>29.438000</td>\n",
       "      <td>31.480000</td>\n",
       "      <td>29.435000</td>\n",
       "    </tr>\n",
       "    <tr>\n",
       "      <th>25%</th>\n",
       "      <td>53.348000</td>\n",
       "      <td>53.340000</td>\n",
       "      <td>53.976000</td>\n",
       "      <td>52.760000</td>\n",
       "    </tr>\n",
       "    <tr>\n",
       "      <th>50%</th>\n",
       "      <td>64.593000</td>\n",
       "      <td>64.589000</td>\n",
       "      <td>65.182000</td>\n",
       "      <td>63.983000</td>\n",
       "    </tr>\n",
       "    <tr>\n",
       "      <th>75%</th>\n",
       "      <td>102.063000</td>\n",
       "      <td>102.061000</td>\n",
       "      <td>103.056000</td>\n",
       "      <td>100.954000</td>\n",
       "    </tr>\n",
       "    <tr>\n",
       "      <th>max</th>\n",
       "      <td>137.344000</td>\n",
       "      <td>137.349000</td>\n",
       "      <td>137.469000</td>\n",
       "      <td>136.664000</td>\n",
       "    </tr>\n",
       "  </tbody>\n",
       "</table>\n",
       "</div>"
      ],
      "text/plain": [
       "            Último     Abertura       Máxima       Mínima\n",
       "count  4745.000000  4745.000000  4745.000000  4745.000000\n",
       "mean     74.965063    74.946324    75.661524    74.237798\n",
       "std      28.189923    28.187076    28.325553    28.053524\n",
       "min      29.435000    29.438000    31.480000    29.435000\n",
       "25%      53.348000    53.340000    53.976000    52.760000\n",
       "50%      64.593000    64.589000    65.182000    63.983000\n",
       "75%     102.063000   102.061000   103.056000   100.954000\n",
       "max     137.344000   137.349000   137.469000   136.664000"
      ]
     },
     "execution_count": 9,
     "metadata": {},
     "output_type": "execute_result"
    }
   ],
   "source": [
    "df.describe()"
   ]
  }
 ],
 "metadata": {
  "kernelspec": {
   "display_name": "Python 3",
   "language": "python",
   "name": "python3"
  },
  "language_info": {
   "codemirror_mode": {
    "name": "ipython",
    "version": 3
   },
   "file_extension": ".py",
   "mimetype": "text/x-python",
   "name": "python",
   "nbconvert_exporter": "python",
   "pygments_lexer": "ipython3",
   "version": "3.13.1"
  }
 },
 "nbformat": 4,
 "nbformat_minor": 2
}
